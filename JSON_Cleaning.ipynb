{
  "nbformat": 4,
  "nbformat_minor": 0,
  "metadata": {
    "colab": {
      "provenance": [],
      "collapsed_sections": [
        "qTwegxSH6ltY",
        "zsruOD4qAoQr",
        "ihPSMCYMzUKx"
      ]
    },
    "kernelspec": {
      "name": "python3",
      "display_name": "Python 3"
    },
    "language_info": {
      "name": "python"
    }
  },
  "cells": [
    {
      "cell_type": "markdown",
      "metadata": {
        "id": "7ruBvK_aAyJt"
      },
      "source": [
        "##### Play-by-Play "
      ]
    },
    {
      "cell_type": "code",
      "metadata": {
        "id": "7m4B5qnH_HG5"
      },
      "source": [
        "import json\n",
        "import os"
      ],
      "execution_count": null,
      "outputs": []
    },
    {
      "cell_type": "code",
      "metadata": {
        "id": "VLXsOn9z_N36"
      },
      "source": [
        "f = open(\"/content/drive/MyDrive/QAC241/NBA Game Data/11148.json\")\n",
        "j_dict = json.load(f)"
      ],
      "execution_count": null,
      "outputs": []
    },
    {
      "cell_type": "code",
      "metadata": {
        "id": "RDQHtdEODzXe"
      },
      "source": [
        "data = {'team':[],'assistor':[],'assisted':[]}\n",
        "jsons_looked_at = 0"
      ],
      "execution_count": null,
      "outputs": []
    },
    {
      "cell_type": "code",
      "source": [
        "j_dict"
      ],
      "metadata": {
        "id": "SLeZ2_1ycitt"
      },
      "execution_count": null,
      "outputs": []
    },
    {
      "cell_type": "code",
      "metadata": {
        "id": "hFNtGGOtr-F4"
      },
      "source": [
        "jsons_looked_at"
      ],
      "execution_count": null,
      "outputs": []
    },
    {
      "cell_type": "code",
      "metadata": {
        "id": "2YyCZWroG7Ov"
      },
      "source": [
        "for json_file in os.listdir(\"/content/drive/MyDrive/QAC241/NBA Game Data\"):\n",
        "  f = open(\"/content/drive/MyDrive/QAC241/NBA Game Data\" + \"/\" + json_file)\n",
        "  j_dict = json.load(f)\n",
        "  if j_dict['Game']['SeasonType'] != 1:\n",
        "    continue\n",
        "  if j_dict['Game']['Status'] == 'Final' or j_dict['Game']['Status'] == 'F//OT':\n",
        "    jsons_looked_at += 1\n",
        "    \"\"\"\n",
        "      On each iteration, need to check that the Season Type is 1, otherwise\n",
        "      just go to the next file\n",
        "    \"\"\"\n",
        "    for play in j_dict['Plays']:\n",
        "      if play['AssistedByPlayerID'] == None:\n",
        "        continue\n",
        "      else:\n",
        "        data['team'].append(play['Team'])\n",
        "        data['assistor'].append(play['AssistedByPlayerID'])\n",
        "        data['assisted'].append(play['PlayerID'])"
      ],
      "execution_count": null,
      "outputs": []
    },
    {
      "cell_type": "code",
      "metadata": {
        "id": "i92RpcJWDE9V"
      },
      "source": [
        "j_dict['Game']"
      ],
      "execution_count": null,
      "outputs": []
    },
    {
      "cell_type": "code",
      "metadata": {
        "id": "ZMTRtuOqKAe_"
      },
      "source": [
        "import pandas as pd\n",
        "full_df = pd.DataFrame(data = data)"
      ],
      "execution_count": null,
      "outputs": []
    },
    {
      "cell_type": "code",
      "metadata": {
        "id": "-AcVXQ30sbsk"
      },
      "source": [
        "full_df"
      ],
      "execution_count": null,
      "outputs": []
    },
    {
      "cell_type": "code",
      "metadata": {
        "id": "wpbZ5B_qsn2f"
      },
      "source": [
        "full_df.to_csv(\"/content/full_assists.csv\", index = False)"
      ],
      "execution_count": null,
      "outputs": []
    },
    {
      "cell_type": "markdown",
      "source": [
        "##### Assistor ID and Name Matching"
      ],
      "metadata": {
        "id": "qTwegxSH6ltY"
      }
    },
    {
      "cell_type": "code",
      "source": [
        "import json\n",
        "import os\n",
        "data = {'player_id' : [], 'name' : []}\n",
        "jsons_inspected = 0"
      ],
      "metadata": {
        "id": "-km2vD3o6rrx"
      },
      "execution_count": null,
      "outputs": []
    },
    {
      "cell_type": "code",
      "source": [
        "f = open(\"/content/drive/MyDrive/QAC241/Assistor ID Name/20000441.json\")\n",
        "j_dict = json.load(f)"
      ],
      "metadata": {
        "id": "3JMqnED87FEv"
      },
      "execution_count": null,
      "outputs": []
    },
    {
      "cell_type": "code",
      "source": [
        "for json_file in os.listdir(\"/content/drive/MyDrive/QAC241/Assistor ID Name\"):\n",
        "  f = open(\"/content/drive/MyDrive/QAC241/Assistor ID Name\" + \"/\" + json_file)\n",
        "  j_dict = json.load(f)\n",
        "  jsons_inspected += 1\n",
        "  data['player_id'].append(json_file[:-4])\n",
        "  data['name'].append(j_dict['FanDuelName'])\n",
        "print(jsons_inspected)"
      ],
      "metadata": {
        "colab": {
          "base_uri": "https://localhost:8080/"
        },
        "id": "oWtgK8gp7eaQ",
        "outputId": "72082ce8-66cb-43af-aa68-228fac68961a"
      },
      "execution_count": null,
      "outputs": [
        {
          "output_type": "stream",
          "name": "stdout",
          "text": [
            "75\n"
          ]
        }
      ]
    },
    {
      "cell_type": "code",
      "source": [
        "import pandas as pd\n",
        "name_df = pd.DataFrame(data = data)"
      ],
      "metadata": {
        "id": "_9tLZjU67SUl"
      },
      "execution_count": null,
      "outputs": []
    },
    {
      "cell_type": "code",
      "source": [
        "name_df"
      ],
      "metadata": {
        "id": "wHwz0FBM8Q3D"
      },
      "execution_count": null,
      "outputs": []
    },
    {
      "cell_type": "code",
      "source": [
        "name_df.to_csv(\"/content/assistor.csv\", index = False)"
      ],
      "metadata": {
        "id": "xFK0Hn2a8edh"
      },
      "execution_count": null,
      "outputs": []
    },
    {
      "cell_type": "markdown",
      "source": [
        "##### Assisted Player ID and Name Matching"
      ],
      "metadata": {
        "id": "zsruOD4qAoQr"
      }
    },
    {
      "cell_type": "code",
      "source": [
        "import json\n",
        "import os\n",
        "data = {'player_id' : [], 'name' : []}\n",
        "j_i = 0"
      ],
      "metadata": {
        "id": "Na4DSSurAuwC"
      },
      "execution_count": null,
      "outputs": []
    },
    {
      "cell_type": "code",
      "source": [
        "f = open(\"/content/drive/MyDrive/QAC241/Assisted ID Name\" + \"/\" + json_file)\n",
        "j_dict = json.load(f)"
      ],
      "metadata": {
        "id": "9bwm7BNSguoa"
      },
      "execution_count": null,
      "outputs": []
    },
    {
      "cell_type": "code",
      "source": [
        "j_dict"
      ],
      "metadata": {
        "colab": {
          "base_uri": "https://localhost:8080/"
        },
        "id": "NWWHgIbpgwB7",
        "outputId": "b0e3c14d-8dec-472b-90e2-4fc6f85b0163"
      },
      "execution_count": null,
      "outputs": [
        {
          "output_type": "execute_result",
          "data": {
            "text/plain": [
              "{'message': ['Out of call volume quota. Quota will be replenished in 28.16:07:24.'],\n",
              " 'statusCode': [403]}"
            ]
          },
          "metadata": {},
          "execution_count": 22
        }
      ]
    },
    {
      "cell_type": "code",
      "source": [
        "for json_file in os.listdir(\"/content/drive/MyDrive/QAC241/Assisted ID Name\"):\n",
        "  f = open(\"/content/drive/MyDrive/QAC241/Assisted ID Name\" + \"/\" + json_file)\n",
        "  j_dict = json.load(f)\n",
        "  j_i += 1\n",
        "  data['player_id'].append(json_file[:-4])\n",
        "  data['name'].append(j_dict['FanDuelName'])\n",
        "print(j_i)"
      ],
      "metadata": {
        "colab": {
          "base_uri": "https://localhost:8080/"
        },
        "id": "xl0ykfSyAypT",
        "outputId": "f64931f2-0cc2-4116-ab89-f466e764fb38"
      },
      "execution_count": null,
      "outputs": [
        {
          "output_type": "stream",
          "name": "stdout",
          "text": [
            "75\n"
          ]
        }
      ]
    },
    {
      "cell_type": "code",
      "source": [
        "import pandas as pd\n",
        "assisted_df = pd.DataFrame(data = data)"
      ],
      "metadata": {
        "id": "N507q5gfA_hx"
      },
      "execution_count": null,
      "outputs": []
    },
    {
      "cell_type": "code",
      "source": [
        "assisted_df.to_csv(\"/content/assisted.csv\", index = False)"
      ],
      "metadata": {
        "id": "m86UbtGdBDAR"
      },
      "execution_count": null,
      "outputs": []
    },
    {
      "cell_type": "markdown",
      "source": [
        "##### Difference in Assisting and Assisted Name Matching"
      ],
      "metadata": {
        "id": "ihPSMCYMzUKx"
      }
    },
    {
      "cell_type": "code",
      "source": [
        "import json\n",
        "import os\n",
        "data = {'player_id' : [], 'name' : []}\n",
        "js_id = 0"
      ],
      "metadata": {
        "id": "e71e8x-3zfnC"
      },
      "execution_count": null,
      "outputs": []
    },
    {
      "cell_type": "code",
      "source": [
        "for json_file in os.listdir(\"/content/drive/MyDrive/QAC241/dif_players\"):\n",
        "  f = open(\"/content/drive/MyDrive/QAC241/dif_players\" + \"/\" + json_file)\n",
        "  j_dict = json.load(f)\n",
        "  js_id += 1\n",
        "  data['player_id'].append(json_file[:-4])\n",
        "  data['name'].append(j_dict['FanDuelName'])\n",
        "print(js_id)"
      ],
      "metadata": {
        "colab": {
          "base_uri": "https://localhost:8080/"
        },
        "id": "uyKYsvJLze-2",
        "outputId": "d0e21d21-e83b-4a73-c0d2-58b06b8e0e77"
      },
      "execution_count": null,
      "outputs": [
        {
          "output_type": "stream",
          "name": "stdout",
          "text": [
            "50\n"
          ]
        }
      ]
    },
    {
      "cell_type": "code",
      "source": [
        "import pandas as pd\n",
        "diff_df = pd.DataFrame(data = data)\n",
        "diff_df.to_csv(\"/content/diffs.csv\", index = False)"
      ],
      "metadata": {
        "id": "Xq1zilC1z26c"
      },
      "execution_count": null,
      "outputs": []
    }
  ]
}